{
 "cells": [
  {
   "cell_type": "markdown",
   "metadata": {},
   "source": [
    "### Loop usage in list"
   ]
  },
  {
   "cell_type": "code",
   "execution_count": 12,
   "metadata": {},
   "outputs": [
    {
     "name": "stdout",
     "output_type": "stream",
     "text": [
      "EVEN [2, 4, 6, 8, 10]\n",
      "ODD [3, 7, 9, 11]\n"
     ]
    }
   ],
   "source": [
    "#Finding out even/odd printing output in list\n",
    "a = [2,3,4,6,7,8,9,10,11]\n",
    "\n",
    "#Empty list to capture the result\n",
    "evenlist = []\n",
    "oddlist = []\n",
    "\n",
    "#Iteration\n",
    "for i in a: \n",
    "    if i % 2 == 0:\n",
    "        evenlist.append(i)   \n",
    "    else:\n",
    "        oddlist.append(i)\n",
    "\n",
    "#Printing Output        \n",
    "print(\"EVEN\",evenlist)\n",
    "print(\"ODD\",oddlist)"
   ]
  },
  {
   "cell_type": "code",
   "execution_count": 17,
   "metadata": {},
   "outputs": [
    {
     "name": "stdout",
     "output_type": "stream",
     "text": [
      "number of Positive numbers 9\n",
      "number of negative numbers 4\n",
      "number of zeroes 2\n"
     ]
    }
   ],
   "source": [
    "#count of positive/Negative/Zero numbers in list\n",
    "a =[-2,-3,4,5,6,8,9,0,0,1,2,3,5,-5,-6]\n",
    "\n",
    "#counter variable\n",
    "b = 0\n",
    "c = 0\n",
    "d = 0\n",
    " \n",
    "#Iteration for each elemnent    \n",
    "for i in a:\n",
    "    \n",
    "    if i > 0:  \n",
    "        b = b + 1\n",
    "    elif i < 0:\n",
    "        c = c + 1\n",
    "    else:\n",
    "        d = d + 1\n",
    "#Print output               \n",
    "print(\"number of Positive numbers\",b)\n",
    "print(\"number of negative numbers\",c)\n",
    "print(\"number of zeroes\",d)"
   ]
  },
  {
   "cell_type": "code",
   "execution_count": 42,
   "metadata": {},
   "outputs": [
    {
     "name": "stdout",
     "output_type": "stream",
     "text": [
      "Number of palindrome: 4\n",
      "Number of non palindrome: 3\n"
     ]
    }
   ],
   "source": [
    "#Palindrome in given list\n",
    "a = [\"mom\", \"dad\", \"king\", \"python\", \"malayalam\", \"123321\", \"123\"]\n",
    "\n",
    "count = 0\n",
    "nocount = 0\n",
    "\n",
    "for i in a:\n",
    "    \n",
    "    #print string in reverse order\n",
    "    reversed_string = i[::-1]\n",
    "    \n",
    "    #Check palindrome\n",
    "    if i == reversed_string:\n",
    "        count = count + 1 \n",
    "    else:\n",
    "        nocount = nocount + 1\n",
    "\n",
    "print (\"Number of palindrome:\",count)        \n",
    "print (\"Number of non palindrome:\",nocount)        "
   ]
  },
  {
   "cell_type": "code",
   "execution_count": 5,
   "metadata": {},
   "outputs": [
    {
     "name": "stdout",
     "output_type": "stream",
     "text": [
      "[0, 1, 2, 3, 4]\n",
      "[1, 2, 3, 4]\n",
      "[5, 6, 7, 8, 9, 10, 11, 12, 13, 14, 15, 16, 17, 18, 19]\n",
      "[-5, -4, -3, -2, -1, 0, 1, 2, 3, 4]\n",
      "[10, 20, 30, 40, 50, 60, 70, 80, 90]\n",
      "[10, 9, 8, 7, 6, 5, 4, 3, 2, 1]\n",
      "[-5, -2, 1, 4]\n",
      "[10, 15, 20, 25, 30, 35, 40, 45, 50, 55, 60, 65, 70, 75, 80, 85, 90, 95]\n",
      "[10, 8, 6, 4, 2]\n"
     ]
    }
   ],
   "source": [
    "# Range in list\n",
    "print(list(range(5)))\n",
    "print(list(range(1,5)))\n",
    "print(list(range(5,20)))\n",
    "print(list(range(-5,5)))\n",
    "print(list(range(10,100,10)))\n",
    "print(list(range(10,0,-1)))\n",
    "print(list(range(-5,5,3)))\n",
    "print(list(range(10,100,5)))\n",
    "print(list(range(10,0,-2)))"
   ]
  },
  {
   "cell_type": "code",
   "execution_count": null,
   "metadata": {},
   "outputs": [],
   "source": [
    "#seperation of vowels/non vowels in list\n",
    "\n",
    "\n",
    "# get input from user for range\n",
    "name = int(input(\"enter the number of strings to be validated:\"))\n",
    "\n",
    "# number of times validation to occur\n",
    "for i in range(name):  \n",
    "    inp = input(\"enter the string:\")\n",
    "    count = 0\n",
    "#Loop to find the count of vowels in the given string     \n",
    "    for j in inp:\n",
    "        if j in ('a','e','i','o','u'):\n",
    "            count = count + 1\n",
    "    print('Total vowels in',inp,(count))"
   ]
  },
  {
   "cell_type": "code",
   "execution_count": 44,
   "metadata": {},
   "outputs": [
    {
     "name": "stdout",
     "output_type": "stream",
     "text": [
      "Total Number of elements with vowel: 3\n",
      "Total Number of elements with non vowel: 4\n"
     ]
    }
   ],
   "source": [
    "#seperation of vowels/non vowels in list\n",
    "\n",
    "a = [\"hi\",\"ggg\",\"hello\",\"ravi\",\"bbbb\",\"zzz\",\"yyyy\"]\n",
    "\n",
    "#Empty list to append the elements\n",
    "vowel = []\n",
    "novowel = []\n",
    "\n",
    "#Running for each element\n",
    "for i in a:\n",
    "    vcnt = 0\n",
    "    nvcnt = 0\n",
    "#Validating vowel in each element    \n",
    "    for j in i:\n",
    "        if j in ('a','e','i','o','u'):\n",
    "            vcnt = vcnt + 1\n",
    "        else:   \n",
    "            nvcnt = nvcnt + 1\n",
    "#Capturing the elements in list            \n",
    "    if vcnt > 0:\n",
    "        vowel.append(i)\n",
    "    else:\n",
    "        novowel.append(i)\n",
    "            \n",
    "            \n",
    "#Printing the output        \n",
    "print(\"Total Number of elements with vowel:\",len(vowel))\n",
    "print(\"Total Number of elements with non vowel:\",len(novowel))"
   ]
  },
  {
   "cell_type": "code",
   "execution_count": 77,
   "metadata": {},
   "outputs": [
    {
     "name": "stdout",
     "output_type": "stream",
     "text": [
      "same first and last letters are:  3\n",
      "different first and last letters are:  3\n"
     ]
    }
   ],
   "source": [
    "#Check first and last letter for each element\n",
    "a = [\"garg\", \"kohli\", \"rohitr\", \"ishan\", \"dhoni\",\"dad\"]\n",
    "\n",
    "samefirst =[]\n",
    "different =[]\n",
    "\n",
    "#Iteration for each element\n",
    "for i in a:\n",
    "    if(i[0]==i[-1]):\n",
    "        samefirst.append(i)\n",
    "    else:\n",
    "        different.append(i)\n",
    "\n",
    "#Printing the output\n",
    "print(\"same first and last letters are: \",len(samefirst))\n",
    "print(\"different first and last letters are: \",len(different))"
   ]
  },
  {
   "cell_type": "code",
   "execution_count": 91,
   "metadata": {},
   "outputs": [
    {
     "name": "stdout",
     "output_type": "stream",
     "text": [
      "0\n",
      "1\n",
      "1\n",
      "2\n",
      "3\n",
      "5\n",
      "8\n",
      "13\n"
     ]
    }
   ],
   "source": [
    "#Fibonacci series\n",
    "\n",
    "#Initialize variable\n",
    "a = 0\n",
    "b = 1\n",
    "\n",
    "#Loop to swap the numbers\n",
    "for i in range(8):\n",
    "    print(a)\n",
    "    c = a + b\n",
    "    a = b\n",
    "    b = c\n"
   ]
  },
  {
   "cell_type": "markdown",
   "metadata": {},
   "source": [
    "### While loop"
   ]
  },
  {
   "cell_type": "code",
   "execution_count": 3,
   "metadata": {},
   "outputs": [
    {
     "name": "stdout",
     "output_type": "stream",
     "text": [
      "12\n",
      "22\n",
      "32\n",
      "42\n",
      "52\n",
      "62\n",
      "72\n",
      "82\n",
      "92\n"
     ]
    }
   ],
   "source": [
    "# Multiples of 10 between 12 to 100 using while loop\n",
    "a = 12\n",
    "\n",
    "while(a<=100):\n",
    "    print(a)\n",
    "    a = a + 10\n",
    "\n",
    "    "
   ]
  },
  {
   "cell_type": "markdown",
   "metadata": {},
   "source": [
    "### For loop with if else\n"
   ]
  },
  {
   "cell_type": "code",
   "execution_count": 2,
   "metadata": {},
   "outputs": [
    {
     "name": "stdout",
     "output_type": "stream",
     "text": [
      "enter the len 5\n",
      "enter the value: 3\n",
      "enter the value: 4\n",
      "enter the value: -6\n",
      "enter the value: -9\n",
      "enter the value: 0\n",
      "[3, 4, -6, -9, 0]\n",
      "no.of zeroes 1\n",
      "no of negative numbers 2\n",
      "no of positive numbers 2\n",
      "no of even numbers 1\n",
      "no of odd numbers 1\n"
     ]
    }
   ],
   "source": [
    "#Check odd/even/positive/negative/Zero in list\n",
    "\n",
    "#Empty list to store the input values\n",
    "a = []\n",
    "\n",
    "#Getting the length of list\n",
    "n = input(\"enter the len \")\n",
    "\n",
    "#Input from user stored in list\n",
    "for i in range(0,int(n)):\n",
    "        b = int(input(\"enter the value: \"))\n",
    "        a.append(b)\n",
    "print(a)\n",
    "\n",
    "#Counter variables\n",
    "count = 0\n",
    "count1 = 0\n",
    "count2 = 0\n",
    "\n",
    "a1 = 0\n",
    "b1 = 0\n",
    "\n",
    "for i in a:\n",
    "#Postive/Negative/Zero     \n",
    "    if i==0:\n",
    "        count = count + 1        \n",
    "    elif i<0:\n",
    "        count1 = count1 +1\n",
    "    else:\n",
    "        count2 = count2 + 1\n",
    "\n",
    "#Odd/Even        \n",
    "        if i % 2 == 0:\n",
    "            a1 = a1 +1\n",
    "        else:\n",
    "            b1 = b1 + 1\n",
    "        \n",
    "#Printing output\n",
    "print(\"no.of zeroes\",count)\n",
    "print(\"no of negative numbers\",count1)\n",
    "print(\"no of positive numbers\",count2)\n",
    "print(\"no of even numbers\",a1)\n",
    "print(\"no of odd numbers\",b1)"
   ]
  },
  {
   "cell_type": "code",
   "execution_count": 7,
   "metadata": {},
   "outputs": [
    {
     "name": "stdout",
     "output_type": "stream",
     "text": [
      "enter the number2\n",
      "enter the number25\n",
      "nofizzandbuzz\n",
      "fizz\n",
      "nofizzandbuzz\n",
      "buzz\n",
      "fizz\n",
      "nofizzandbuzz\n",
      "nofizzandbuzz\n",
      "fizz\n",
      "buzz\n",
      "nofizzandbuzz\n",
      "fizz\n",
      "nofizzandbuzz\n",
      "nofizzandbuzz\n",
      "fizzbuzz\n",
      "nofizzandbuzz\n",
      "nofizzandbuzz\n",
      "fizz\n",
      "nofizzandbuzz\n",
      "buzz\n",
      "fizz\n",
      "nofizzandbuzz\n",
      "nofizzandbuzz\n",
      "fizz\n",
      "buzz\n"
     ]
    }
   ],
   "source": [
    "#Print fizzbuzz for 1 to 25\n",
    "\n",
    "#Getting input from user\n",
    "a = int(input(\"enter the number\"))\n",
    "b = int(input(\"enter the number\"))\n",
    "\n",
    "#using multiple if with for\n",
    "for i in range (a,b+1):\n",
    "    if (i%3==0 and i%5==0):    \n",
    "        print(\"fizzbuzz\")\n",
    "    elif(i%3==0):\n",
    "        print(\"fizz\")\n",
    "    elif(i%5==0):\n",
    "        print(\"buzz\")\n",
    "    else:\n",
    "        print(\"nofizzandbuzz\")"
   ]
  },
  {
   "cell_type": "code",
   "execution_count": 44,
   "metadata": {},
   "outputs": [
    {
     "name": "stdout",
     "output_type": "stream",
     "text": [
      "Enter a number: 0\n",
      "The factorial of 0 is 1\n"
     ]
    }
   ],
   "source": [
    "#Factorial of a number\n",
    "\n",
    "#Input fromuser\n",
    "a = int(input(\"Enter a number: \"))  \n",
    "\n",
    "\n",
    "factorial = 1    \n",
    "\n",
    "#Exception handling\n",
    "if i < 0:    \n",
    "    print(\"Factorial does not exist\")    \n",
    "elif i == 0:    \n",
    "    print(\"The factorial of 0 is 1\") \n",
    "\n",
    "#Factorial in loop    \n",
    "else: \n",
    "    for i in range(1,a + 1): \n",
    "        factorial = factorial*i \n",
    "\n",
    "#Printing output\n",
    "print(\"The factorial of\",a,\"is\",factorial) \n"
   ]
  },
  {
   "cell_type": "code",
   "execution_count": 3,
   "metadata": {},
   "outputs": [
    {
     "name": "stdout",
     "output_type": "stream",
     "text": [
      "Enter a number:325\n",
      "The total sum of digits is: 10\n"
     ]
    }
   ],
   "source": [
    "#Sum of digits \n",
    "\n",
    "a=int(input(\"Enter a number:\"))\n",
    "\n",
    "#Initialize\n",
    "tot=0\n",
    "\n",
    "#Using modulo and floor operator\n",
    "while(a>0):   \n",
    "    digit=a%10    \n",
    "    tot=tot+digit\n",
    "    a=a//10\n",
    "           \n",
    "#Printing output    \n",
    "print(\"The total sum of digits is:\",tot)"
   ]
  },
  {
   "cell_type": "code",
   "execution_count": 5,
   "metadata": {},
   "outputs": [
    {
     "name": "stdout",
     "output_type": "stream",
     "text": [
      "Enter a number:927\n",
      "product of digits is: 126\n"
     ]
    }
   ],
   "source": [
    "#Product of numbers\n",
    "\n",
    "a=int(input(\"Enter a number:\"))\n",
    "\n",
    "#Initialize\n",
    "tot=1\n",
    "\n",
    "while(a>0):   \n",
    "    digit=a%10\n",
    "    tot=tot*digit\n",
    "    a=a//10\n",
    "    \n",
    "        \n",
    "#Print output    \n",
    "print(\"product of digits is:\",tot)"
   ]
  },
  {
   "cell_type": "code",
   "execution_count": 13,
   "metadata": {},
   "outputs": [
    {
     "name": "stdout",
     "output_type": "stream",
     "text": [
      "enter the number25\n",
      "[1, 5, 25]\n"
     ]
    }
   ],
   "source": [
    "#\n",
    "a = int(input(\"enter the number\"))\n",
    "b = []\n",
    "for i in range(1,a+1):\n",
    "        if  a % i == 0:\n",
    "            b.append(i)\n",
    "print(b)\n",
    "        "
   ]
  },
  {
   "cell_type": "code",
   "execution_count": 5,
   "metadata": {},
   "outputs": [
    {
     "name": "stdout",
     "output_type": "stream",
     "text": [
      "Enter the first stringpota\n",
      "Enter the second stringpoal\n",
      "{'p', 't', 'a', 'o'}\n",
      "Given string is not a anagram\n"
     ]
    }
   ],
   "source": [
    "#Anagram\n",
    "#Input from user\n",
    "a = input(\"Enter the first string\")\n",
    "b = input(\"Enter the second string\")\n",
    "\n",
    "#Convert to set\n",
    "a_set = set(a)\n",
    "b_set = set(b)\n",
    "print(a_set)\n",
    "\n",
    "#Check length of string\n",
    "if int(len(a)) == int(len(b)):\n",
    "    c = a_set.difference(b_set)\n",
    "#Check Anagram\n",
    "    if c == set():\n",
    "        print(\"Given string is a anagram\")\n",
    "    else:\n",
    "        print(\"Given string is not a anagram\")\n",
    "else:\n",
    "        print(\"Given string is not a anagram\")"
   ]
  },
  {
   "cell_type": "code",
   "execution_count": 17,
   "metadata": {},
   "outputs": [
    {
     "name": "stdout",
     "output_type": "stream",
     "text": [
      "enter the number24\n",
      "not prime\n"
     ]
    }
   ],
   "source": [
    "#Check Prime number\n",
    "#Input from user\n",
    "a = int(input(\"enter the number\"))\n",
    "b = True\n",
    "\n",
    "#Prime number\n",
    "for i in range(2,a):\n",
    "        if  a % i == 0:\n",
    "            b = False\n",
    "if b:\n",
    "    print (\"prime\")\n",
    "else:\n",
    "    print (\"not prime\")\n",
    "\n",
    "        \n"
   ]
  }
 ],
 "metadata": {
  "kernelspec": {
   "display_name": "Python 3",
   "language": "python",
   "name": "python3"
  },
  "language_info": {
   "codemirror_mode": {
    "name": "ipython",
    "version": 3
   },
   "file_extension": ".py",
   "mimetype": "text/x-python",
   "name": "python",
   "nbconvert_exporter": "python",
   "pygments_lexer": "ipython3",
   "version": "3.7.4"
  }
 },
 "nbformat": 4,
 "nbformat_minor": 2
}
