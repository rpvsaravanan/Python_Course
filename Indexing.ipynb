{
 "cells": [
  {
   "cell_type": "markdown",
   "metadata": {},
   "source": [
    "## INDEX"
   ]
  },
  {
   "cell_type": "code",
   "execution_count": 1,
   "metadata": {},
   "outputs": [
    {
     "name": "stdout",
     "output_type": "stream",
     "text": [
      "r\n",
      "e\n",
      "l\n",
      "a\n",
      "!\n",
      "n\n",
      "a\n",
      "r\n",
      "d\n",
      "r\n",
      "e\n",
      "e\n",
      "p\n",
      "l\n"
     ]
    }
   ],
   "source": [
    "a = \"welcome*to#python&world!keep_learning^everyday\"\n",
    "\n",
    "print(a[20])\n",
    "print(a[-16])\n",
    "print(a[21])\n",
    "print(a[-15])\n",
    "print(a[23])\n",
    "print(a[-13])\n",
    "print(a[31])\n",
    "print(a[-5])\n",
    "print(a[22])\n",
    "print(a[-14])\n",
    "print(a[30])\n",
    "print(a[-6])\n",
    "print(a[11])\n",
    "print(a[-25])"
   ]
  },
  {
   "cell_type": "markdown",
   "metadata": {},
   "source": [
    "### Calculate positive and negative index \n",
    "*\n",
    "p\n",
    "&\n",
    "^\n",
    "%"
   ]
  },
  {
   "cell_type": "code",
   "execution_count": 8,
   "metadata": {},
   "outputs": [
    {
     "name": "stdout",
     "output_type": "stream",
     "text": [
      "*\n",
      "p\n",
      "&\n",
      "^\n"
     ]
    }
   ],
   "source": [
    "#Positive Index\n",
    "\n",
    "print(a[7])\n",
    "print(a[11])\n",
    "print(a[17])\n",
    "print(a[37])\n",
    "\n",
    "# % not found"
   ]
  },
  {
   "cell_type": "code",
   "execution_count": 9,
   "metadata": {},
   "outputs": [
    {
     "name": "stdout",
     "output_type": "stream",
     "text": [
      "*\n",
      "p\n",
      "&\n",
      "^\n"
     ]
    }
   ],
   "source": [
    "#Negative Index\n",
    "\n",
    "print(a[-39])\n",
    "print(a[-35])\n",
    "print(a[-29])\n",
    "print(a[-9])\n",
    "\n",
    "# % not found"
   ]
  },
  {
   "cell_type": "markdown",
   "metadata": {},
   "source": [
    "### Manual Calculation"
   ]
  },
  {
   "cell_type": "code",
   "execution_count": 2,
   "metadata": {},
   "outputs": [
    {
     "name": "stdout",
     "output_type": "stream",
     "text": [
      "n_tec\n",
      "mation_tec\n",
      "n_technology\n",
      "\n",
      "forma\n",
      "\n",
      "ifraintcnlg\n",
      "ntcn\n",
      "ntcnlg\n",
      "fm\n",
      "ntcnl\n",
      "ftto\n"
     ]
    }
   ],
   "source": [
    "a = \"information_technology\"\n",
    "\n",
    "print(a[10:15])\n",
    "print(a[5:15])\n",
    "print(a[10:])\n",
    "print(a[-15:-20])\n",
    "print(a[-20:-15])\n",
    "print(a[-3:-5])\n",
    "print(a[::2])\n",
    "print(a[10:17:2])\n",
    "print(a[10:100:2])\n",
    "print(a[-20:-15:3])\n",
    "print(a[10:20:2])\n",
    "print(a[-20:-2:5])\n"
   ]
  },
  {
   "cell_type": "code",
   "execution_count": 9,
   "metadata": {},
   "outputs": [
    {
     "name": "stdout",
     "output_type": "stream",
     "text": [
      "information\n",
      "technology\n",
      "_ehooy\n",
      "ifr\n",
      "ioao\n"
     ]
    }
   ],
   "source": [
    "print(a[:11])\n",
    "print(a[12:])\n",
    "print(a[11::2])\n",
    "print(a[:5:2])\n",
    "print(a[:10:3])"
   ]
  },
  {
   "cell_type": "code",
   "execution_count": 3,
   "metadata": {},
   "outputs": [
    {
     "name": "stdout",
     "output_type": "stream",
     "text": [
      "cru\n",
      "c\n",
      "eni\n",
      "computer_s\n",
      "ee\n",
      "eni\n",
      "ei\n",
      "ine\n"
     ]
    }
   ],
   "source": [
    "a = \"computer_science\"\n",
    "\n",
    "print (a[10:1:-3])\n",
    "print (a[:-15])\n",
    "print (a[:-7:-2])\n",
    "print(a[:10])\n",
    "print (a[:10:-3])\n",
    "print (a[:10:-2])\n",
    "print (a[:10:-4])\n",
    "print (a[-5::2])"
   ]
  },
  {
   "cell_type": "code",
   "execution_count": 12,
   "metadata": {},
   "outputs": [
    {
     "name": "stdout",
     "output_type": "stream",
     "text": [
      "Informat\n",
      "Information_technolo\n",
      "\n",
      "technolo\n",
      "Informat\n",
      "Information_technolo\n",
      "on_tech\n",
      "on_technology_world\n",
      "on_technology_world\n",
      "y_world\n",
      "\n",
      "y_world\n",
      "Information_technology_world\n",
      "for\n",
      "formatio\n",
      "for\n",
      "formatio\n",
      "echnolo\n",
      "fr\n",
      "frai\n",
      "ehoo\n",
      "f\n",
      "fmi\n",
      "eno\n",
      "for\n",
      "formatio\n",
      "for\n",
      "formatio\n",
      "echnolo\n",
      "fr\n",
      "frai\n",
      "ehoo\n",
      "f\n",
      "fmi\n",
      "eno\n",
      "c\n",
      "tec\n",
      "\n",
      "Ifrai\n",
      "Ioaothl\n",
      "Infor\n",
      "fraintcnlg_ol\n",
      "lg_ol\n",
      "thlyod\n",
      "eor\n",
      "n\n",
      "formatio\n",
      "\n",
      "\n",
      "noitamro\n",
      "\n",
      "oaothlyo\n",
      "r_onentr\n",
      "\n"
     ]
    }
   ],
   "source": [
    "a = \"Information_technology_world\"\n",
    "\n",
    "print(a[0:8])\n",
    "print(a[0:-8])\n",
    "print(a[-16:8])\n",
    "print(a[-16:-8])\n",
    "print(a[:8])\n",
    "print(a[:-8])\n",
    "print(a[9:16])\n",
    "print(a[9:100])\n",
    "print(a[9:])\n",
    "print(a[-7:])\n",
    "print(a[-7:16])\n",
    "print(a[-7:100])\n",
    "print(a[:])\n",
    "print(a[2:5])\n",
    "print(a[2:10])\n",
    "print(a[2:5:1])\n",
    "print(a[2:10:1])\n",
    "print(a[-15:-8:1])\n",
    "\n",
    "print(a[2:5:2])\n",
    "print(a[2:10:2])\n",
    "print(a[-15:-8:2])\n",
    "print(a[2:5:3])\n",
    "print(a[2:10:3])\n",
    "print(a[-15:-8:3])\n",
    "print(a[2:5])\n",
    "print(a[2:10])\n",
    "print(a[2:5:1])\n",
    "print(a[2:10:1])\n",
    "print(a[-15:-8:1])\n",
    "print(a[2:5:2])\n",
    "print(a[2:10:2])\n",
    "print(a[-15:-8:2])\n",
    "print(a[2:5:3])\n",
    "print(a[2:10:3])\n",
    "print(a[-15:-8:3])\n",
    "print(a[-14:15:2])\n",
    "print(a[12:15:1])\n",
    "print(a[-16:10:5])\n",
    "\n",
    "print(a[:10:2])\n",
    "print(a[:-8:3])\n",
    "print(a[:5:1])\n",
    "print(a[2::2])\n",
    "print(a[-10::2])\n",
    "print(a[12::3])\n",
    "print(a[13::6])\n",
    "print(a[10::100])\n",
    "print(a[2:10:1])\n",
    "print(a[2:10:-1])\n",
    "print(a[10:2:1])\n",
    "print(a[10:2:-1])\n",
    "print(a[-3:3:3])\n",
    "print(a[3:-3:3])\n",
    "print(a[-3:3:-3])\n",
    "print(a[3:-3:-3])\n",
    "\n",
    "\n"
   ]
  },
  {
   "cell_type": "code",
   "execution_count": 39,
   "metadata": {},
   "outputs": [
    {
     "name": "stdout",
     "output_type": "stream",
     "text": [
      "c\n",
      "\n",
      "ifrai\n",
      "ioaothl\n",
      "infor\n",
      "fraintcnlg_ol\n",
      "n\n",
      "formatio\n",
      "\n",
      "noitamro\n",
      "\n",
      "oaothlyo\n",
      "r_onentr\n",
      "\n",
      "\n"
     ]
    }
   ],
   "source": [
    "a = \"information_technology_world\"\n",
    "print (a[-14:15:2])\n",
    "print (a[-16:10:5])\n",
    "print (a[:10:2])\n",
    "print (a[:-8:3])\n",
    "print (a[:5:1])\n",
    "print (a[2::2])\n",
    "print (a[10::100])\n",
    "print (a[2:10:1])\n",
    "print (a[2:10:-1])\n",
    "print (a[10:2:-1])\n",
    "print (a[10:2:1])\n",
    "print (a[3:-3:3])\n",
    "print (a[-3:3:-3])\n",
    "print (a[3:-3:-3])\n",
    "print (a[-3:3:3])\n"
   ]
  },
  {
   "cell_type": "code",
   "execution_count": 43,
   "metadata": {},
   "outputs": [
    {
     "name": "stdout",
     "output_type": "stream",
     "text": [
      "hlwlph\n",
      "nt_r_l\n",
      "l_r_tn\n",
      "lh\n",
      "nhy_lo\n",
      "h\n",
      "nohtyp_dlrow_olleh\n",
      "hello_world_python\n",
      "h_dh\n",
      "npol\n"
     ]
    }
   ],
   "source": [
    "a = \"hello_world_python\"\n",
    "\n",
    "print(a[::3])\n",
    "print(a[::-3])\n",
    "print(a[2::3])\n",
    "print(a[3::-3])\n",
    "print(a[:5:-2])\n",
    "print(a[:5:5])\n",
    "print(a[::-1])\n",
    "print(a[::1])\n",
    "print(a[::5])\n",
    "print(a[::-5])\n",
    "\n",
    "\n"
   ]
  },
  {
   "cell_type": "code",
   "execution_count": 56,
   "metadata": {},
   "outputs": [
    {
     "name": "stdout",
     "output_type": "stream",
     "text": [
      "uorg_nohtyp_sdnim_evitavonn\n",
      "a_sh\n",
      "gtde\n",
      "\n",
      "\n",
      "\n",
      "\n",
      "r_otpsnmeiao\n",
      "\n",
      "\n",
      "prnt_n_ivn\n",
      "pognhy_di_vtvnI\n",
      "\n",
      "nvtv_id_yhngo\n",
      "a_sh\n",
      "oteisyog\n",
      "Invtv_id_yhngop\n",
      "p_ynvo\n"
     ]
    }
   ],
   "source": [
    "a=\"Innovative_minds_python_group\"\n",
    "\n",
    "print(a[-2:0:-1])\n",
    "print(a[5:-5:5])\n",
    "print(a[-5:5:-5])\n",
    "print(a[5:-5:-5])\n",
    "print(a[3:9:-1])\n",
    "print(a[9:-10:-2])\n",
    "print(a[2:-4:-4])\n",
    "print(a[-4:2:-2])\n",
    "print(a[0:-1:-3])\n",
    "print(a[-3:3:6])\n",
    "print(a[::-3])\n",
    "print(a[::-2])\n",
    "print(a[2:-2:-2])\n",
    "print(a[2:-2:2])\n",
    "print(a[5:-5:5])\n",
    "print(a[3:-3:3])\n",
    "print(a[::2])\n",
    "print(a[::-5])\n",
    "\n"
   ]
  }
 ],
 "metadata": {
  "kernelspec": {
   "display_name": "Python 3",
   "language": "python",
   "name": "python3"
  },
  "language_info": {
   "codemirror_mode": {
    "name": "ipython",
    "version": 3
   },
   "file_extension": ".py",
   "mimetype": "text/x-python",
   "name": "python",
   "nbconvert_exporter": "python",
   "pygments_lexer": "ipython3",
   "version": "3.7.4"
  }
 },
 "nbformat": 4,
 "nbformat_minor": 2
}
