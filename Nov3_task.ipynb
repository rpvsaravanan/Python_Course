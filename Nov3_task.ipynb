{
 "cells": [
  {
   "cell_type": "markdown",
   "metadata": {},
   "source": [
    "### November 3 - Task "
   ]
  },
  {
   "cell_type": "markdown",
   "metadata": {},
   "source": [
    "#### Importing Libraries"
   ]
  },
  {
   "cell_type": "code",
   "execution_count": 1,
   "metadata": {},
   "outputs": [],
   "source": [
    "import math"
   ]
  },
  {
   "cell_type": "markdown",
   "metadata": {},
   "source": [
    "#### create float ===> convert in to int str bool"
   ]
  },
  {
   "cell_type": "code",
   "execution_count": 2,
   "metadata": {},
   "outputs": [
    {
     "name": "stdout",
     "output_type": "stream",
     "text": [
      "<class 'float'>\n",
      "10\n",
      "10.2\n",
      "True\n"
     ]
    }
   ],
   "source": [
    "#creating variable with float value\n",
    "a = 10.2\n",
    "\n",
    "#display the variable type\n",
    "print(type(a))\n",
    "\n",
    "#converting float to integer \n",
    "print(int(a))\n",
    "\n",
    "#converting float to string \n",
    "print(str(a))\n",
    "\n",
    "#converting float to Boolean \n",
    "print(bool(a))"
   ]
  },
  {
   "cell_type": "markdown",
   "metadata": {},
   "source": [
    "#### create int ==> conver in to float str bool"
   ]
  },
  {
   "cell_type": "code",
   "execution_count": 3,
   "metadata": {},
   "outputs": [
    {
     "name": "stdout",
     "output_type": "stream",
     "text": [
      "<class 'int'>\n",
      "100.0\n",
      "100\n",
      "True\n"
     ]
    }
   ],
   "source": [
    "#creating variable with integer value\n",
    "a = 100\n",
    "\n",
    "#display the variable type\n",
    "print(type(a))\n",
    "\n",
    "#converting integer to float \n",
    "print(float(a))\n",
    "\n",
    "#converting integer to string\n",
    "print(str(a))\n",
    "\n",
    "#converting integer to Boolean \n",
    "print(bool(a))"
   ]
  },
  {
   "cell_type": "markdown",
   "metadata": {},
   "source": [
    "#### create bool ===> convert in to float int str "
   ]
  },
  {
   "cell_type": "code",
   "execution_count": 4,
   "metadata": {},
   "outputs": [
    {
     "name": "stdout",
     "output_type": "stream",
     "text": [
      "<class 'bool'>\n",
      "1.0\n",
      "1\n",
      "True\n"
     ]
    }
   ],
   "source": [
    "#creating variable with boolean\n",
    "a = True\n",
    "\n",
    "#display the variable type\n",
    "print(type(a))\n",
    "\n",
    "#converting boolean to float \n",
    "print(float(a))\n",
    "\n",
    "#converting boolean to integer \n",
    "print(int(a))\n",
    "\n",
    "#converting boolean to string\n",
    "print(str(a))"
   ]
  },
  {
   "cell_type": "markdown",
   "metadata": {},
   "source": [
    "##### Get radius (int) and height (float) from user using input function\n",
    "##### Find the area of cylinder pi r*r h \n",
    "##### Print area output in integer with formatted output"
   ]
  },
  {
   "cell_type": "code",
   "execution_count": 5,
   "metadata": {},
   "outputs": [
    {
     "name": "stdout",
     "output_type": "stream",
     "text": [
      "Please enter radius value:\n",
      "5\n",
      "Please enter height value:\n",
      "8\n",
      "Area of a cyclinder is 628\n"
     ]
    }
   ],
   "source": [
    "#Getting Input values\n",
    "print(\"Please enter radius value:\")\n",
    "radius = input()\n",
    "\n",
    "print(\"Please enter height value:\")\n",
    "height = input()\n",
    "\n",
    "\n",
    "#converting string input to integer\n",
    "r = int(radius)\n",
    "h = float(height)\n",
    "\n",
    "#import math function for pi value\n",
    "import math\n",
    "area = math.pi*r**2*h\n",
    "area = int(area)\n",
    "print(\"Area of a cyclinder is {}\".format(area))\n"
   ]
  },
  {
   "cell_type": "markdown",
   "metadata": {},
   "source": [
    "#### Area of the circle and circumference:\n",
    "#### area pi r * r   cicr  2 pi r\n",
    "#### collect radius from user as integer\n",
    "#### print area (int) in formatted way\n",
    "#### print circumference in string format in formatted way"
   ]
  },
  {
   "cell_type": "code",
   "execution_count": 6,
   "metadata": {},
   "outputs": [
    {
     "name": "stdout",
     "output_type": "stream",
     "text": [
      "Please enter radius value:\n",
      "7\n",
      "Area of a circle is 153\n",
      "circumference of a circle is 43\n"
     ]
    }
   ],
   "source": [
    "print(\"Please enter radius value:\")\n",
    "radius = input()\n",
    "\n",
    "#converting string input to integer\n",
    "r = int(radius)\n",
    "\n",
    "#import math function for pi value\n",
    "import math\n",
    "area = math.pi*r**2\n",
    "area = int(area)\n",
    "print(\"Area of a circle is {}\".format(area))\n",
    "\n",
    "#calculating circumference\n",
    "import math\n",
    "circum = 2*math.pi*r\n",
    "circum = str(int(circum))\n",
    "print(\"circumference of a circle is {}\".format(circum))\n"
   ]
  },
  {
   "cell_type": "markdown",
   "metadata": {},
   "source": [
    "#### 3: Print function:"
   ]
  },
  {
   "cell_type": "code",
   "execution_count": 7,
   "metadata": {},
   "outputs": [
    {
     "name": "stdout",
     "output_type": "stream",
     "text": [
      "<class 'int'>\n",
      "<class 'str'>\n",
      "<class 'float'>\n"
     ]
    }
   ],
   "source": [
    "a = 10\n",
    "b = \"hello\"\n",
    "c = 1.75\n",
    "print(type(a))\n",
    "print(type(b))\n",
    "print(type(c))"
   ]
  },
  {
   "cell_type": "code",
   "execution_count": 8,
   "metadata": {},
   "outputs": [
    {
     "name": "stdout",
     "output_type": "stream",
     "text": [
      "hello|world|me\n"
     ]
    }
   ],
   "source": [
    "print('hello','world','/me', sep='|', end='\\n',file=open(\"new.txt\",\"a\"),flush=1)\n",
    "print('hello','world','me', sep='|', end='\\n',flush=0)"
   ]
  },
  {
   "cell_type": "markdown",
   "metadata": {},
   "source": [
    "#### 4. round function 3.99999 ===> round function"
   ]
  },
  {
   "cell_type": "code",
   "execution_count": 9,
   "metadata": {},
   "outputs": [
    {
     "name": "stdout",
     "output_type": "stream",
     "text": [
      "5\n",
      "4.99\n",
      "4.984\n"
     ]
    }
   ],
   "source": [
    "print(round(4.98))\n",
    "print(round(4.989999,2))\n",
    "print(round(4.9844999,3))"
   ]
  }
 ],
 "metadata": {
  "kernelspec": {
   "display_name": "Python 3",
   "language": "python",
   "name": "python3"
  },
  "language_info": {
   "codemirror_mode": {
    "name": "ipython",
    "version": 3
   },
   "file_extension": ".py",
   "mimetype": "text/x-python",
   "name": "python",
   "nbconvert_exporter": "python",
   "pygments_lexer": "ipython3",
   "version": "3.7.4"
  }
 },
 "nbformat": 4,
 "nbformat_minor": 2
}
