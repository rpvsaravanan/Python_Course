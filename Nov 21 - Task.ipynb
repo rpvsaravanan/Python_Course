{
 "cells": [
  {
   "cell_type": "markdown",
   "metadata": {},
   "source": [
    "#### Task 1: Number is positive or negative"
   ]
  },
  {
   "cell_type": "code",
   "execution_count": 35,
   "metadata": {},
   "outputs": [
    {
     "name": "stdout",
     "output_type": "stream",
     "text": [
      "Enter a number: -25\n",
      "Negative number\n"
     ]
    }
   ],
   "source": [
    "#Get one number from user\n",
    "num = int(input(\"Enter a number: \"))\n",
    "\n",
    "#Check number is positive or negative\n",
    "if num > 0:\n",
    "    print(\"Positive number\")\n",
    "else:\n",
    "    print(\"Negative number\")"
   ]
  },
  {
   "cell_type": "markdown",
   "metadata": {},
   "source": [
    "#### Task 2: Number is even or odd"
   ]
  },
  {
   "cell_type": "code",
   "execution_count": 52,
   "metadata": {},
   "outputs": [
    {
     "name": "stdout",
     "output_type": "stream",
     "text": [
      "Enter a number:2\n",
      "This is an even number\n"
     ]
    }
   ],
   "source": [
    "#Get one number from user\n",
    "number = int(input(\"Enter a number:\")) \n",
    "\n",
    "#Find odd or even\n",
    "mod = number % 2 \n",
    "\n",
    "if mod > 0:\n",
    "        print(\"This is an odd number\")\n",
    "else:\n",
    "    print(\"This is an even number\")   "
   ]
  },
  {
   "cell_type": "markdown",
   "metadata": {},
   "source": [
    "#### Task 3 : collect one string from user, check whether the string is palindrome or not"
   ]
  },
  {
   "cell_type": "code",
   "execution_count": 29,
   "metadata": {},
   "outputs": [
    {
     "name": "stdout",
     "output_type": "stream",
     "text": [
      "please enter a string: maths\n",
      "maths is not a palindrome\n"
     ]
    }
   ],
   "source": [
    "#Get one string from user\n",
    "a = input(\"please enter a string: \")\n",
    "\n",
    "#print string in reverse order\n",
    "reversed_string = a[::-1]\n",
    "\n",
    "#Check palindrome\n",
    "if a == reversed_string:\n",
    "    print(\"{} is palindrome\".format(a))  \n",
    "else:\n",
    "    print(\"{} is not a palindrome\".format(a))\n",
    "    "
   ]
  },
  {
   "cell_type": "markdown",
   "metadata": {},
   "source": [
    "#### Task 4 :Middle letter - Vowel or not\n"
   ]
  },
  {
   "cell_type": "code",
   "execution_count": 65,
   "metadata": {},
   "outputs": [
    {
     "name": "stdout",
     "output_type": "stream",
     "text": [
      "intelligent\n",
      "middle letter is not vowel \n"
     ]
    }
   ],
   "source": [
    "#Get one string from user\n",
    "name = input()\n",
    "\n",
    "#Find middle letter \n",
    "a = int(len(name)/2)\n",
    "b =  (name[a])\n",
    "\n",
    "#Check if middle letter is Vowel or not\n",
    "if b in (\"a\", \"e\", \"i\", \"o\", \"u\"):\n",
    "    \n",
    "    print (\"middle letter is vowel\")\n",
    "else:\n",
    "    print(\"middle letter is not vowel \")"
   ]
  },
  {
   "cell_type": "markdown",
   "metadata": {},
   "source": [
    "#### Task5: middle letter ASCII - Odd/Even\n"
   ]
  },
  {
   "cell_type": "code",
   "execution_count": 68,
   "metadata": {},
   "outputs": [
    {
     "name": "stdout",
     "output_type": "stream",
     "text": [
      "oie\n",
      "105\n",
      "This is an odd number\n"
     ]
    }
   ],
   "source": [
    "#Get one string from user\n",
    "name = input()\n",
    "\n",
    "#Find the middle letter\n",
    "a = int(len(name)/2)\n",
    "b =  (name[a])\n",
    "\n",
    "#find ascii value for the middle letter\n",
    "number = ord(b)\n",
    "mod = number % 2 \n",
    "\n",
    "#check whether ascii value is odd or even\n",
    "if mod > 0:\n",
    "        print(\"This is an odd number\")\n",
    "else:\n",
    "    print(\"This is an even number\")  "
   ]
  },
  {
   "cell_type": "markdown",
   "metadata": {},
   "source": [
    "#### Task 6 : Length of string - Odd/Even"
   ]
  },
  {
   "cell_type": "code",
   "execution_count": 73,
   "metadata": {},
   "outputs": [
    {
     "name": "stdout",
     "output_type": "stream",
     "text": [
      "pytho\n",
      "This is an odd number\n"
     ]
    }
   ],
   "source": [
    "#Get one string from user\n",
    "name = input()\n",
    "\n",
    "a = int(len(name))\n",
    "mod = a % 2 \n",
    "#check whether length is odd or even\n",
    "if mod > 0:\n",
    "        print(\"This is an odd number\")\n",
    "else:\n",
    "    print(\"This is an even number\")  "
   ]
  },
  {
   "cell_type": "markdown",
   "metadata": {},
   "source": [
    "#### Task 7"
   ]
  },
  {
   "cell_type": "code",
   "execution_count": 92,
   "metadata": {},
   "outputs": [
    {
     "name": "stdout",
     "output_type": "stream",
     "text": [
      "please enter your mark: 89\n",
      "Mark is valid\n",
      "Pass\n",
      "B\n"
     ]
    }
   ],
   "source": [
    "#Get one mark from student\n",
    "\n",
    "mark = int(input(\"please enter your mark: \"))\n",
    "\n",
    "# finding mark is valid or not\n",
    "if mark >= 0 and mark <= 100:\n",
    "    print(\"Mark is valid\")\n",
    "    \n",
    "# Checking if it is pass mark    \n",
    "    if mark >= 50:\n",
    "        print (\"Pass\")\n",
    "# checking the grades of mark\n",
    "        if mark >= 90 and mark <= 100:\n",
    "            print (\"A+\")\n",
    "        elif mark >= 80 and mark <= 89:\n",
    "            print (\"B\")\n",
    "        elif mark >= 70 and mark <= 79:\n",
    "            print (\"c\")\n",
    "        elif mark >= 60 and mark <= 69:\n",
    "            print (\"D\")\n",
    "        elif mark >= 50 and mark <= 59:\n",
    "            print (\"E\") \n",
    "    else:\n",
    "        print (\"Fail\")\n",
    "else:\n",
    "    print (\"Mark is invalid\")"
   ]
  },
  {
   "cell_type": "markdown",
   "metadata": {},
   "source": [
    "#### Task 10 : Finding Vowels - range of strings"
   ]
  },
  {
   "cell_type": "code",
   "execution_count": 21,
   "metadata": {},
   "outputs": [
    {
     "name": "stdout",
     "output_type": "stream",
     "text": [
      "enter the number of strings to be validated:2\n",
      "enter the string:mathematics\n",
      "Total vowels in mathematics 4\n",
      "enter the string:science\n",
      "Total vowels in science 3\n"
     ]
    }
   ],
   "source": [
    "# get input from user for range\n",
    "name = int(input(\"enter the number of strings to be validated:\"))\n",
    "\n",
    "# number of times validation to occur\n",
    "for i in range(name):  \n",
    "    inp = input(\"enter the string:\")\n",
    "    count = 0\n",
    "#Loop to find the count of vowels in the given string     \n",
    "    for j in inp:\n",
    "        if j in ('a','e','i','o','u'):\n",
    "            count = count + 1\n",
    "    print('Total vowels in',inp,(count))\n",
    "\n",
    "    "
   ]
  },
  {
   "cell_type": "markdown",
   "metadata": {},
   "source": [
    "#### Task 12 : Finding the length of list - odd or even"
   ]
  },
  {
   "cell_type": "code",
   "execution_count": 29,
   "metadata": {},
   "outputs": [
    {
     "name": "stdout",
     "output_type": "stream",
     "text": [
      "This is an odd number\n",
      "5\n"
     ]
    }
   ],
   "source": [
    "a = [123, 124, 125,130,131]\n",
    "\n",
    "b = (len(a))\n",
    "\n",
    "mod = b % 2 \n",
    "\n",
    "if mod > 0:\n",
    "        print(\"This is an odd number\")\n",
    "else:\n",
    "        print(\"This is an even number\")   \n",
    "\n",
    "print (b)"
   ]
  }
 ],
 "metadata": {
  "kernelspec": {
   "display_name": "Python 3",
   "language": "python",
   "name": "python3"
  },
  "language_info": {
   "codemirror_mode": {
    "name": "ipython",
    "version": 3
   },
   "file_extension": ".py",
   "mimetype": "text/x-python",
   "name": "python",
   "nbconvert_exporter": "python",
   "pygments_lexer": "ipython3",
   "version": "3.7.4"
  }
 },
 "nbformat": 4,
 "nbformat_minor": 2
}
