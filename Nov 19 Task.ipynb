{
 "cells": [
  {
   "cell_type": "markdown",
   "metadata": {},
   "source": [
    "#### NOV 19 - Task"
   ]
  },
  {
   "cell_type": "code",
   "execution_count": 119,
   "metadata": {},
   "outputs": [
    {
     "name": "stdout",
     "output_type": "stream",
     "text": [
      "2\n",
      "3\n",
      "4\n",
      "5\n",
      "[45, 56, 67, 78, [111, 222, 333, [5555, 3333, [10000, 50000, 'python', 'computer'], 1111, 7777, 8888], 444, 555, 666, 777], 89, 23, 34]\n",
      "\n",
      "\n",
      "45\n",
      "56\n",
      "67\n",
      "78\n",
      "[111, 222, 333, [5555, 3333, [10000, 50000, 'python', 'computer'], 1111, 7777, 8888], 444, 555, 666, 777]\n",
      "\n",
      "\n",
      "111\n",
      "222\n",
      "333\n",
      "[5555, 3333, [10000, 50000, 'python', 'computer'], 1111, 7777, 8888]\n",
      "\n",
      "\n",
      "5555\n",
      "3333\n",
      "[10000, 50000, 'python', 'computer']\n",
      "1111\n",
      "7777\n",
      "8888\n",
      "\n",
      "\n",
      "[10000, 50000, 'python', 'computer']\n"
     ]
    }
   ],
   "source": [
    "Li1 =[2,3,4,5,[45,56,67,78,[111,222,333,[5555,3333,[10000,50000,\"python\",\"computer\"],1111,7777,8888],444,555,666,777],89,23,34]]\n",
    "\n",
    "#List1 - 5 elements 5th nested\n",
    "print(Li1[0])\n",
    "print(Li1[1])\n",
    "print(Li1[2])\n",
    "print(Li1[3])\n",
    "print(Li1[4])\n",
    "print(\"\\n\")\n",
    "\n",
    "#List2 - 5 elements 5th nested\n",
    "print(Li1[4][0])\n",
    "print(Li1[4][1])\n",
    "print(Li1[4][2])\n",
    "print(Li1[4][3])\n",
    "print(Li1[4][4])\n",
    "print(\"\\n\")\n",
    "\n",
    "#List3 - 4 elements 4th nested\n",
    "print(Li1[4][4][0])\n",
    "print(Li1[4][4][1])\n",
    "print(Li1[4][4][2])\n",
    "print(Li1[4][4][3])\n",
    "print(\"\\n\")\n",
    "\n",
    "#List4 - 6 elements 3 nested\n",
    "print(Li1[4][4][3][0])\n",
    "print(Li1[4][4][3][1])\n",
    "print(Li1[4][4][3][2])\n",
    "print(Li1[4][4][3][3])\n",
    "print(Li1[4][4][3][4])\n",
    "print(Li1[4][4][3][5])\n",
    "print(\"\\n\")\n",
    "\n",
    "\n",
    "#List 5 - \n",
    "print(Li1[4][4][3][2])\n",
    "\n",
    "\n"
   ]
  },
  {
   "cell_type": "code",
   "execution_count": 146,
   "metadata": {},
   "outputs": [
    {
     "name": "stdout",
     "output_type": "stream",
     "text": [
      "5\n",
      "56\n",
      "222\n",
      "50000\n",
      "put\n",
      "5555\n",
      "7777\n",
      "666\n",
      "89\n",
      "on\n",
      "333\n",
      "3333\n"
     ]
    }
   ],
   "source": [
    "print(Li1[3])\n",
    "print(Li1[4][1])\n",
    "print(Li1[4][4][1])\n",
    "print(Li1[4][4][3][2][1])\n",
    "print(Li1[4][4][3][2][3][3:6])\n",
    "print(Li1[4][4][3][0])\n",
    "print(Li1[4][4][3][4])\n",
    "print(Li1[4][4][6])\n",
    "print(Li1[4][5])\n",
    "print(Li1[4][4][3][2][2][4:])\n",
    "print(Li1[4][4][2])\n",
    "print(Li1[4][4][3][1])\n",
    "\n",
    "\n"
   ]
  },
  {
   "cell_type": "code",
   "execution_count": 142,
   "metadata": {},
   "outputs": [
    {
     "name": "stdout",
     "output_type": "stream",
     "text": [
      "1\n",
      "2\n",
      "3\n",
      "4\n",
      "5\n",
      "[11, 22, 33, 44, 55, [111, 222, 333, 444], 6666, 7777]\n",
      "7777\n",
      "\n",
      "\n",
      "11\n",
      "22\n",
      "33\n",
      "44\n",
      "55\n",
      "[111, 222, 333, 444]\n",
      "6666\n",
      "7777\n",
      "\n",
      "\n",
      "111\n",
      "222\n",
      "333\n",
      "444\n"
     ]
    }
   ],
   "source": [
    "Li2 = [1,2,3,4,5,[11,22,33,44,55,[111,222,333,444],6666,7777],7777]\n",
    "\n",
    "\n",
    "# List 1 - 7 Elements - 5th nested\n",
    "print (Li2[0])\n",
    "print (Li2[1])\n",
    "print (Li2[2])\n",
    "print (Li2[3])\n",
    "print (Li2[4])\n",
    "print (Li2[5])\n",
    "print (Li2[6])\n",
    "print(\"\\n\")\n",
    "\n",
    "# List 2 - 8 Elements 5th nested\n",
    "print (Li2[5][0])\n",
    "print (Li2[5][1])\n",
    "print (Li2[5][2])\n",
    "print (Li2[5][3])\n",
    "print (Li2[5][4])\n",
    "print (Li2[5][5])\n",
    "print (Li2[5][6])\n",
    "print (Li2[5][7])\n",
    "print(\"\\n\")\n",
    "\n",
    "# List 3 - 4 Elements\n",
    "\n",
    "print (Li2[5][5][0])\n",
    "print (Li2[5][5][1])\n",
    "print (Li2[5][5][2])\n",
    "print (Li2[5][5][3])\n",
    "\n"
   ]
  },
  {
   "cell_type": "code",
   "execution_count": 143,
   "metadata": {},
   "outputs": [
    {
     "name": "stdout",
     "output_type": "stream",
     "text": [
      "11\n",
      "6666\n",
      "6666\n",
      "7777\n",
      "7777\n",
      "222\n",
      "7777\n"
     ]
    },
    {
     "ename": "TypeError",
     "evalue": "'int' object is not subscriptable",
     "output_type": "error",
     "traceback": [
      "\u001b[1;31m---------------------------------------------------------------------------\u001b[0m",
      "\u001b[1;31mTypeError\u001b[0m                                 Traceback (most recent call last)",
      "\u001b[1;32m<ipython-input-143-8b6f80d788f8>\u001b[0m in \u001b[0;36m<module>\u001b[1;34m\u001b[0m\n\u001b[0;32m      6\u001b[0m \u001b[0mprint\u001b[0m\u001b[1;33m(\u001b[0m\u001b[0mLi2\u001b[0m\u001b[1;33m[\u001b[0m\u001b[1;36m5\u001b[0m\u001b[1;33m]\u001b[0m\u001b[1;33m[\u001b[0m\u001b[1;36m5\u001b[0m\u001b[1;33m]\u001b[0m\u001b[1;33m[\u001b[0m\u001b[1;36m1\u001b[0m\u001b[1;33m]\u001b[0m\u001b[1;33m)\u001b[0m\u001b[1;33m\u001b[0m\u001b[1;33m\u001b[0m\u001b[0m\n\u001b[0;32m      7\u001b[0m \u001b[0mprint\u001b[0m\u001b[1;33m(\u001b[0m\u001b[0mLi2\u001b[0m\u001b[1;33m[\u001b[0m\u001b[1;33m-\u001b[0m\u001b[1;36m2\u001b[0m\u001b[1;33m]\u001b[0m\u001b[1;33m[\u001b[0m\u001b[1;33m-\u001b[0m\u001b[1;36m1\u001b[0m\u001b[1;33m]\u001b[0m\u001b[1;33m)\u001b[0m\u001b[1;33m\u001b[0m\u001b[1;33m\u001b[0m\u001b[0m\n\u001b[1;32m----> 8\u001b[1;33m \u001b[0mprint\u001b[0m\u001b[1;33m(\u001b[0m\u001b[0mLi2\u001b[0m\u001b[1;33m[\u001b[0m\u001b[1;36m2\u001b[0m\u001b[1;33m]\u001b[0m\u001b[1;33m[\u001b[0m\u001b[1;36m2\u001b[0m\u001b[1;33m:\u001b[0m\u001b[1;36m4\u001b[0m\u001b[1;33m]\u001b[0m\u001b[1;33m)\u001b[0m\u001b[1;33m\u001b[0m\u001b[1;33m\u001b[0m\u001b[0m\n\u001b[0m",
      "\u001b[1;31mTypeError\u001b[0m: 'int' object is not subscriptable"
     ]
    }
   ],
   "source": [
    "print(Li2[5][0])\n",
    "print(Li2[5][6])\n",
    "print(Li2[5][-2])\n",
    "print(Li2[5][7])\n",
    "print(Li2[6])\n",
    "print(Li2[5][5][1])\n",
    "print(Li2[-2][-1])\n",
    "print(Li2[2][2:4])"
   ]
  },
  {
   "cell_type": "code",
   "execution_count": null,
   "metadata": {},
   "outputs": [],
   "source": []
  }
 ],
 "metadata": {
  "kernelspec": {
   "display_name": "Python 3",
   "language": "python",
   "name": "python3"
  },
  "language_info": {
   "codemirror_mode": {
    "name": "ipython",
    "version": 3
   },
   "file_extension": ".py",
   "mimetype": "text/x-python",
   "name": "python",
   "nbconvert_exporter": "python",
   "pygments_lexer": "ipython3",
   "version": "3.7.4"
  }
 },
 "nbformat": 4,
 "nbformat_minor": 2
}
