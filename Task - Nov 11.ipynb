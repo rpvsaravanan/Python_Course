{
 "cells": [
  {
   "cell_type": "markdown",
   "metadata": {},
   "source": [
    "#### Task 1 - Identify middle letter of the string"
   ]
  },
  {
   "cell_type": "code",
   "execution_count": 3,
   "metadata": {},
   "outputs": [
    {
     "name": "stdout",
     "output_type": "stream",
     "text": [
      "enter the name:\n",
      "saravanan\n",
      "4.5\n",
      "4\n",
      "v\n"
     ]
    }
   ],
   "source": [
    "print(\"enter the name:\")\n",
    "\n",
    "name = input()\n",
    "\n",
    "a = len(name)/2\n",
    "\n",
    "b = int(a)\n",
    "\n",
    "print (a)\n",
    "\n",
    "print (b)\n",
    "\n",
    "print (name[4])\n"
   ]
  },
  {
   "cell_type": "markdown",
   "metadata": {},
   "source": [
    "#### Task 3 - Convert Middle Character to Upper Case"
   ]
  },
  {
   "cell_type": "code",
   "execution_count": 13,
   "metadata": {},
   "outputs": [
    {
     "name": "stdout",
     "output_type": "stream",
     "text": [
      "datascience\n",
      "5.5\n",
      "5\n",
      "c\n",
      "datasCience\n"
     ]
    }
   ],
   "source": [
    "print (\"enter the string:\")\n",
    "\n",
    "a = input()\n",
    "\n",
    "b = len(a)/2\n",
    "\n",
    "c = int(b)\n",
    "\n",
    "d = a[:5] + a[5].upper() + a[6:]\n",
    "\n",
    "print (b)\n",
    "\n",
    "print (c)\n",
    "\n",
    "print (a[5])\n",
    "\n",
    "print (d)"
   ]
  },
  {
   "cell_type": "markdown",
   "metadata": {},
   "source": [
    "#### Task 5 - Swap case"
   ]
  },
  {
   "cell_type": "code",
   "execution_count": 12,
   "metadata": {},
   "outputs": [
    {
     "name": "stdout",
     "output_type": "stream",
     "text": [
      "aRtIfIcIaL_iNtElLiGeNcE_dAtA_aNaLyTiCs\n"
     ]
    }
   ],
   "source": [
    "a = \"ArTiFiCiAl_InTeLlIgEnCe_DaTa_AnAlYtIcS\"\n",
    "\n",
    "b = a.swapcase()\n",
    "\n",
    "print(b)\n"
   ]
  },
  {
   "cell_type": "markdown",
   "metadata": {},
   "source": [
    "#### Task 6 - Mutation"
   ]
  },
  {
   "cell_type": "code",
   "execution_count": 1,
   "metadata": {},
   "outputs": [
    {
     "name": "stdout",
     "output_type": "stream",
     "text": [
      "enter the string:\n",
      "pencilbox\n",
      "enter the position:\n",
      "6\n",
      "enter the character to insert\n",
      "inside\n",
      "pencilinsidebox\n"
     ]
    }
   ],
   "source": [
    "print(\"enter the string:\")\n",
    "\n",
    "a = input()\n",
    "\n",
    "print(\"enter the position:\")\n",
    "\n",
    "b = int(input())\n",
    "\n",
    "print(\"enter the character to insert\")\n",
    "\n",
    "c = str(input())\n",
    "\n",
    "d = a[0:b] + c + a[b:]\n",
    "\n",
    "print(d)"
   ]
  },
  {
   "cell_type": "markdown",
   "metadata": {},
   "source": [
    "#### Task 7 - Capitalize"
   ]
  },
  {
   "cell_type": "code",
   "execution_count": 14,
   "metadata": {},
   "outputs": [
    {
     "name": "stdout",
     "output_type": "stream",
     "text": [
      "Saravanan\n"
     ]
    }
   ],
   "source": [
    "a = \"saravanan\"\n",
    "\n",
    "b = a.capitalize()\n",
    "\n",
    "print (b)"
   ]
  }
 ],
 "metadata": {
  "kernelspec": {
   "display_name": "Python 3",
   "language": "python",
   "name": "python3"
  },
  "language_info": {
   "codemirror_mode": {
    "name": "ipython",
    "version": 3
   },
   "file_extension": ".py",
   "mimetype": "text/x-python",
   "name": "python",
   "nbconvert_exporter": "python",
   "pygments_lexer": "ipython3",
   "version": "3.7.4"
  }
 },
 "nbformat": 4,
 "nbformat_minor": 2
}
